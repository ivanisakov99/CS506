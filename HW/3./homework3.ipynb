{
 "cells": [
  {
   "cell_type": "markdown",
   "metadata": {},
   "source": [
    "# Homework 3 (100 points)\n",
    "\n",
    "The goal of this homework is to practice techniques relating to SVD.\n",
    "\n",
    "## Exercise 1 (65 points)\n",
    "\n",
    "a) Fetch the \"mnist_784\" data and store is as a `.csv` (that way you don't have to fetch it every time - which takes about 30s). (4 points)"
   ]
  },
  {
   "cell_type": "code",
   "execution_count": 62,
   "metadata": {},
   "outputs": [],
   "source": [
    "import matplotlib.pyplot as plt\n",
    "import pandas as pd\n",
    "import numpy as np\n",
    "from sklearn.datasets import fetch_openml\n",
    "from os.path import exists\n",
    "\n",
    "X, y = fetch_openml(name=\"mnist_784\", version=1, return_X_y=True, as_frame=False)\n",
    "data = pd.DataFrame({\n",
    "        'Image': X.tolist(),\n",
    "        'Label': y,\n",
    "    })"
   ]
  },
  {
   "cell_type": "code",
   "execution_count": 66,
   "metadata": {},
   "outputs": [],
   "source": [
    "if not exists('mnist.csv'):\n",
    "    X, y = fetch_openml(name=\"mnist_784\", version=1, return_X_y=True, as_frame=False)\n",
    "    pd.DataFrame({\n",
    "        # 'Image': [image for image in X],\n",
    "        'Image': X.tolist(),\n",
    "        'Label': y,\n",
    "    }).sort_values(by=['Label']).to_csv('mnist.csv', index=False)\n",
    "\n",
    "data = pd.read_csv('mnist.csv')"
   ]
  },
  {
   "cell_type": "code",
   "execution_count": 74,
   "metadata": {},
   "outputs": [
    {
     "name": "stdout",
     "output_type": "stream",
     "text": [
      "<class 'str'>\n"
     ]
    }
   ],
   "source": [
    "def clean_alt_list(list_):\n",
    "    list_ = list_.replace(', ', '\",\"')\n",
    "    list_ = list_.replace('[', '[\"')\n",
    "    list_ = list_.replace(']', '\"]')\n",
    "    return list_\n",
    "data['Image'].apply(clean_alt_list)\n",
    "print(type(data['Image'].iloc[0]))\n"
   ]
  },
  {
   "cell_type": "markdown",
   "metadata": {},
   "source": [
    "b) Plot the singular value plot for a single example of the 0 digit (5 points)"
   ]
  },
  {
   "cell_type": "code",
   "execution_count": 57,
   "metadata": {},
   "outputs": [
    {
     "ename": "TypeError",
     "evalue": "Cannot interpret '<built-in function array>' as a data type",
     "output_type": "error",
     "traceback": [
      "\u001b[0;31m---------------------------------------------------------------------------\u001b[0m",
      "\u001b[0;31mTypeError\u001b[0m                                 Traceback (most recent call last)",
      "\u001b[1;32m/Users/ivan/Developer/CS506/HW/3./homework3.ipynb Cell 4'\u001b[0m in \u001b[0;36m<module>\u001b[0;34m\u001b[0m\n\u001b[1;32m      <a href='vscode-notebook-cell:/Users/ivan/Developer/CS506/HW/3./homework3.ipynb#ch0000003?line=0'>1</a>\u001b[0m zero \u001b[39m=\u001b[39m data[data[\u001b[39m'\u001b[39m\u001b[39mLabel\u001b[39m\u001b[39m'\u001b[39m] \u001b[39m==\u001b[39m \u001b[39m0\u001b[39m]\u001b[39m.\u001b[39msample()\n\u001b[1;32m      <a href='vscode-notebook-cell:/Users/ivan/Developer/CS506/HW/3./homework3.ipynb#ch0000003?line=2'>3</a>\u001b[0m \u001b[39m# print(type(zero))\u001b[39;00m\n\u001b[0;32m----> <a href='vscode-notebook-cell:/Users/ivan/Developer/CS506/HW/3./homework3.ipynb#ch0000003?line=3'>4</a>\u001b[0m zero \u001b[39m=\u001b[39m zero[\u001b[39m'\u001b[39;49m\u001b[39mImage\u001b[39;49m\u001b[39m'\u001b[39;49m]\u001b[39m.\u001b[39;49mastype(np\u001b[39m.\u001b[39;49marray)\u001b[39m.\u001b[39miloc[\u001b[39m0\u001b[39m]\n\u001b[1;32m      <a href='vscode-notebook-cell:/Users/ivan/Developer/CS506/HW/3./homework3.ipynb#ch0000003?line=4'>5</a>\u001b[0m \u001b[39mprint\u001b[39m(zero[\u001b[39m0\u001b[39m])\n",
      "File \u001b[0;32m~/opt/anaconda3/envs/ml/lib/python3.10/site-packages/pandas/core/generic.py:5920\u001b[0m, in \u001b[0;36mNDFrame.astype\u001b[0;34m(self, dtype, copy, errors)\u001b[0m\n\u001b[1;32m   <a href='file:///~/opt/anaconda3/envs/ml/lib/python3.10/site-packages/pandas/core/generic.py?line=5912'>5913</a>\u001b[0m     results \u001b[39m=\u001b[39m [\n\u001b[1;32m   <a href='file:///~/opt/anaconda3/envs/ml/lib/python3.10/site-packages/pandas/core/generic.py?line=5913'>5914</a>\u001b[0m         \u001b[39mself\u001b[39m\u001b[39m.\u001b[39miloc[:, i]\u001b[39m.\u001b[39mastype(dtype, copy\u001b[39m=\u001b[39mcopy)\n\u001b[1;32m   <a href='file:///~/opt/anaconda3/envs/ml/lib/python3.10/site-packages/pandas/core/generic.py?line=5914'>5915</a>\u001b[0m         \u001b[39mfor\u001b[39;00m i \u001b[39min\u001b[39;00m \u001b[39mrange\u001b[39m(\u001b[39mlen\u001b[39m(\u001b[39mself\u001b[39m\u001b[39m.\u001b[39mcolumns))\n\u001b[1;32m   <a href='file:///~/opt/anaconda3/envs/ml/lib/python3.10/site-packages/pandas/core/generic.py?line=5915'>5916</a>\u001b[0m     ]\n\u001b[1;32m   <a href='file:///~/opt/anaconda3/envs/ml/lib/python3.10/site-packages/pandas/core/generic.py?line=5917'>5918</a>\u001b[0m \u001b[39melse\u001b[39;00m:\n\u001b[1;32m   <a href='file:///~/opt/anaconda3/envs/ml/lib/python3.10/site-packages/pandas/core/generic.py?line=5918'>5919</a>\u001b[0m     \u001b[39m# else, only a single dtype is given\u001b[39;00m\n\u001b[0;32m-> <a href='file:///~/opt/anaconda3/envs/ml/lib/python3.10/site-packages/pandas/core/generic.py?line=5919'>5920</a>\u001b[0m     new_data \u001b[39m=\u001b[39m \u001b[39mself\u001b[39m\u001b[39m.\u001b[39m_mgr\u001b[39m.\u001b[39mastype(dtype\u001b[39m=\u001b[39mdtype, copy\u001b[39m=\u001b[39mcopy, errors\u001b[39m=\u001b[39merrors)\n\u001b[1;32m   <a href='file:///~/opt/anaconda3/envs/ml/lib/python3.10/site-packages/pandas/core/generic.py?line=5920'>5921</a>\u001b[0m     \u001b[39mreturn\u001b[39;00m \u001b[39mself\u001b[39m\u001b[39m.\u001b[39m_constructor(new_data)\u001b[39m.\u001b[39m__finalize__(\u001b[39mself\u001b[39m, method\u001b[39m=\u001b[39m\u001b[39m\"\u001b[39m\u001b[39mastype\u001b[39m\u001b[39m\"\u001b[39m)\n\u001b[1;32m   <a href='file:///~/opt/anaconda3/envs/ml/lib/python3.10/site-packages/pandas/core/generic.py?line=5922'>5923</a>\u001b[0m \u001b[39m# GH 33113: handle empty frame or series\u001b[39;00m\n",
      "File \u001b[0;32m~/opt/anaconda3/envs/ml/lib/python3.10/site-packages/pandas/core/internals/managers.py:419\u001b[0m, in \u001b[0;36mBaseBlockManager.astype\u001b[0;34m(self, dtype, copy, errors)\u001b[0m\n\u001b[1;32m    <a href='file:///~/opt/anaconda3/envs/ml/lib/python3.10/site-packages/pandas/core/internals/managers.py?line=417'>418</a>\u001b[0m \u001b[39mdef\u001b[39;00m \u001b[39mastype\u001b[39m(\u001b[39mself\u001b[39m: T, dtype, copy: \u001b[39mbool\u001b[39m \u001b[39m=\u001b[39m \u001b[39mFalse\u001b[39;00m, errors: \u001b[39mstr\u001b[39m \u001b[39m=\u001b[39m \u001b[39m\"\u001b[39m\u001b[39mraise\u001b[39m\u001b[39m\"\u001b[39m) \u001b[39m-\u001b[39m\u001b[39m>\u001b[39m T:\n\u001b[0;32m--> <a href='file:///~/opt/anaconda3/envs/ml/lib/python3.10/site-packages/pandas/core/internals/managers.py?line=418'>419</a>\u001b[0m     \u001b[39mreturn\u001b[39;00m \u001b[39mself\u001b[39;49m\u001b[39m.\u001b[39;49mapply(\u001b[39m\"\u001b[39;49m\u001b[39mastype\u001b[39;49m\u001b[39m\"\u001b[39;49m, dtype\u001b[39m=\u001b[39;49mdtype, copy\u001b[39m=\u001b[39;49mcopy, errors\u001b[39m=\u001b[39;49merrors)\n",
      "File \u001b[0;32m~/opt/anaconda3/envs/ml/lib/python3.10/site-packages/pandas/core/internals/managers.py:304\u001b[0m, in \u001b[0;36mBaseBlockManager.apply\u001b[0;34m(self, f, align_keys, ignore_failures, **kwargs)\u001b[0m\n\u001b[1;32m    <a href='file:///~/opt/anaconda3/envs/ml/lib/python3.10/site-packages/pandas/core/internals/managers.py?line=301'>302</a>\u001b[0m         applied \u001b[39m=\u001b[39m b\u001b[39m.\u001b[39mapply(f, \u001b[39m*\u001b[39m\u001b[39m*\u001b[39mkwargs)\n\u001b[1;32m    <a href='file:///~/opt/anaconda3/envs/ml/lib/python3.10/site-packages/pandas/core/internals/managers.py?line=302'>303</a>\u001b[0m     \u001b[39melse\u001b[39;00m:\n\u001b[0;32m--> <a href='file:///~/opt/anaconda3/envs/ml/lib/python3.10/site-packages/pandas/core/internals/managers.py?line=303'>304</a>\u001b[0m         applied \u001b[39m=\u001b[39m \u001b[39mgetattr\u001b[39;49m(b, f)(\u001b[39m*\u001b[39;49m\u001b[39m*\u001b[39;49mkwargs)\n\u001b[1;32m    <a href='file:///~/opt/anaconda3/envs/ml/lib/python3.10/site-packages/pandas/core/internals/managers.py?line=304'>305</a>\u001b[0m \u001b[39mexcept\u001b[39;00m (\u001b[39mTypeError\u001b[39;00m, \u001b[39mNotImplementedError\u001b[39;00m):\n\u001b[1;32m    <a href='file:///~/opt/anaconda3/envs/ml/lib/python3.10/site-packages/pandas/core/internals/managers.py?line=305'>306</a>\u001b[0m     \u001b[39mif\u001b[39;00m \u001b[39mnot\u001b[39;00m ignore_failures:\n",
      "File \u001b[0;32m~/opt/anaconda3/envs/ml/lib/python3.10/site-packages/pandas/core/internals/blocks.py:580\u001b[0m, in \u001b[0;36mBlock.astype\u001b[0;34m(self, dtype, copy, errors)\u001b[0m\n\u001b[1;32m    <a href='file:///~/opt/anaconda3/envs/ml/lib/python3.10/site-packages/pandas/core/internals/blocks.py?line=561'>562</a>\u001b[0m \u001b[39m\"\"\"\u001b[39;00m\n\u001b[1;32m    <a href='file:///~/opt/anaconda3/envs/ml/lib/python3.10/site-packages/pandas/core/internals/blocks.py?line=562'>563</a>\u001b[0m \u001b[39mCoerce to the new dtype.\u001b[39;00m\n\u001b[1;32m    <a href='file:///~/opt/anaconda3/envs/ml/lib/python3.10/site-packages/pandas/core/internals/blocks.py?line=563'>564</a>\u001b[0m \n\u001b[0;32m   (...)\u001b[0m\n\u001b[1;32m    <a href='file:///~/opt/anaconda3/envs/ml/lib/python3.10/site-packages/pandas/core/internals/blocks.py?line=575'>576</a>\u001b[0m \u001b[39mBlock\u001b[39;00m\n\u001b[1;32m    <a href='file:///~/opt/anaconda3/envs/ml/lib/python3.10/site-packages/pandas/core/internals/blocks.py?line=576'>577</a>\u001b[0m \u001b[39m\"\"\"\u001b[39;00m\n\u001b[1;32m    <a href='file:///~/opt/anaconda3/envs/ml/lib/python3.10/site-packages/pandas/core/internals/blocks.py?line=577'>578</a>\u001b[0m values \u001b[39m=\u001b[39m \u001b[39mself\u001b[39m\u001b[39m.\u001b[39mvalues\n\u001b[0;32m--> <a href='file:///~/opt/anaconda3/envs/ml/lib/python3.10/site-packages/pandas/core/internals/blocks.py?line=579'>580</a>\u001b[0m new_values \u001b[39m=\u001b[39m astype_array_safe(values, dtype, copy\u001b[39m=\u001b[39;49mcopy, errors\u001b[39m=\u001b[39;49merrors)\n\u001b[1;32m    <a href='file:///~/opt/anaconda3/envs/ml/lib/python3.10/site-packages/pandas/core/internals/blocks.py?line=581'>582</a>\u001b[0m new_values \u001b[39m=\u001b[39m maybe_coerce_values(new_values)\n\u001b[1;32m    <a href='file:///~/opt/anaconda3/envs/ml/lib/python3.10/site-packages/pandas/core/internals/blocks.py?line=582'>583</a>\u001b[0m newb \u001b[39m=\u001b[39m \u001b[39mself\u001b[39m\u001b[39m.\u001b[39mmake_block(new_values)\n",
      "File \u001b[0;32m~/opt/anaconda3/envs/ml/lib/python3.10/site-packages/pandas/core/dtypes/cast.py:1286\u001b[0m, in \u001b[0;36mastype_array_safe\u001b[0;34m(values, dtype, copy, errors)\u001b[0m\n\u001b[1;32m   <a href='file:///~/opt/anaconda3/envs/ml/lib/python3.10/site-packages/pandas/core/dtypes/cast.py?line=1279'>1280</a>\u001b[0m     msg \u001b[39m=\u001b[39m (\n\u001b[1;32m   <a href='file:///~/opt/anaconda3/envs/ml/lib/python3.10/site-packages/pandas/core/dtypes/cast.py?line=1280'>1281</a>\u001b[0m         \u001b[39mf\u001b[39m\u001b[39m\"\u001b[39m\u001b[39mExpected an instance of \u001b[39m\u001b[39m{\u001b[39;00mdtype\u001b[39m.\u001b[39m\u001b[39m__name__\u001b[39m\u001b[39m}\u001b[39;00m\u001b[39m, \u001b[39m\u001b[39m\"\u001b[39m\n\u001b[1;32m   <a href='file:///~/opt/anaconda3/envs/ml/lib/python3.10/site-packages/pandas/core/dtypes/cast.py?line=1281'>1282</a>\u001b[0m         \u001b[39m\"\u001b[39m\u001b[39mbut got the class instead. Try instantiating \u001b[39m\u001b[39m'\u001b[39m\u001b[39mdtype\u001b[39m\u001b[39m'\u001b[39m\u001b[39m.\u001b[39m\u001b[39m\"\u001b[39m\n\u001b[1;32m   <a href='file:///~/opt/anaconda3/envs/ml/lib/python3.10/site-packages/pandas/core/dtypes/cast.py?line=1282'>1283</a>\u001b[0m     )\n\u001b[1;32m   <a href='file:///~/opt/anaconda3/envs/ml/lib/python3.10/site-packages/pandas/core/dtypes/cast.py?line=1283'>1284</a>\u001b[0m     \u001b[39mraise\u001b[39;00m \u001b[39mTypeError\u001b[39;00m(msg)\n\u001b[0;32m-> <a href='file:///~/opt/anaconda3/envs/ml/lib/python3.10/site-packages/pandas/core/dtypes/cast.py?line=1285'>1286</a>\u001b[0m dtype \u001b[39m=\u001b[39m pandas_dtype(dtype)\n\u001b[1;32m   <a href='file:///~/opt/anaconda3/envs/ml/lib/python3.10/site-packages/pandas/core/dtypes/cast.py?line=1286'>1287</a>\u001b[0m \u001b[39mif\u001b[39;00m \u001b[39misinstance\u001b[39m(dtype, PandasDtype):\n\u001b[1;32m   <a href='file:///~/opt/anaconda3/envs/ml/lib/python3.10/site-packages/pandas/core/dtypes/cast.py?line=1287'>1288</a>\u001b[0m     \u001b[39m# Ensure we don't end up with a PandasArray\u001b[39;00m\n\u001b[1;32m   <a href='file:///~/opt/anaconda3/envs/ml/lib/python3.10/site-packages/pandas/core/dtypes/cast.py?line=1288'>1289</a>\u001b[0m     dtype \u001b[39m=\u001b[39m dtype\u001b[39m.\u001b[39mnumpy_dtype\n",
      "File \u001b[0;32m~/opt/anaconda3/envs/ml/lib/python3.10/site-packages/pandas/core/dtypes/common.py:1777\u001b[0m, in \u001b[0;36mpandas_dtype\u001b[0;34m(dtype)\u001b[0m\n\u001b[1;32m   <a href='file:///~/opt/anaconda3/envs/ml/lib/python3.10/site-packages/pandas/core/dtypes/common.py?line=1773'>1774</a>\u001b[0m \u001b[39m# try a numpy dtype\u001b[39;00m\n\u001b[1;32m   <a href='file:///~/opt/anaconda3/envs/ml/lib/python3.10/site-packages/pandas/core/dtypes/common.py?line=1774'>1775</a>\u001b[0m \u001b[39m# raise a consistent TypeError if failed\u001b[39;00m\n\u001b[1;32m   <a href='file:///~/opt/anaconda3/envs/ml/lib/python3.10/site-packages/pandas/core/dtypes/common.py?line=1775'>1776</a>\u001b[0m \u001b[39mtry\u001b[39;00m:\n\u001b[0;32m-> <a href='file:///~/opt/anaconda3/envs/ml/lib/python3.10/site-packages/pandas/core/dtypes/common.py?line=1776'>1777</a>\u001b[0m     npdtype \u001b[39m=\u001b[39m np\u001b[39m.\u001b[39;49mdtype(dtype)\n\u001b[1;32m   <a href='file:///~/opt/anaconda3/envs/ml/lib/python3.10/site-packages/pandas/core/dtypes/common.py?line=1777'>1778</a>\u001b[0m \u001b[39mexcept\u001b[39;00m \u001b[39mSyntaxError\u001b[39;00m \u001b[39mas\u001b[39;00m err:\n\u001b[1;32m   <a href='file:///~/opt/anaconda3/envs/ml/lib/python3.10/site-packages/pandas/core/dtypes/common.py?line=1778'>1779</a>\u001b[0m     \u001b[39m# np.dtype uses `eval` which can raise SyntaxError\u001b[39;00m\n\u001b[1;32m   <a href='file:///~/opt/anaconda3/envs/ml/lib/python3.10/site-packages/pandas/core/dtypes/common.py?line=1779'>1780</a>\u001b[0m     \u001b[39mraise\u001b[39;00m \u001b[39mTypeError\u001b[39;00m(\u001b[39mf\u001b[39m\u001b[39m\"\u001b[39m\u001b[39mdata type \u001b[39m\u001b[39m'\u001b[39m\u001b[39m{\u001b[39;00mdtype\u001b[39m}\u001b[39;00m\u001b[39m'\u001b[39m\u001b[39m not understood\u001b[39m\u001b[39m\"\u001b[39m) \u001b[39mfrom\u001b[39;00m \u001b[39merr\u001b[39;00m\n",
      "\u001b[0;31mTypeError\u001b[0m: Cannot interpret '<built-in function array>' as a data type"
     ]
    }
   ],
   "source": [
    "zero = data[data['Label'] == 0].sample()\n",
    "\n",
    "# print(type(zero))\n",
    "zero = zero['Image'].iloc[0]\n",
    "print(zero[0])\n",
    "# u, s, v = np.linalg.svd()\n",
    "# plt.imshow(zero.reshape(28, 28))"
   ]
  },
  {
   "cell_type": "markdown",
   "metadata": {},
   "source": [
    "c) By setting some singular values to 0, plot the approximation of the 0 digit next to the original digit. (5 points)"
   ]
  },
  {
   "cell_type": "code",
   "execution_count": null,
   "metadata": {},
   "outputs": [],
   "source": []
  },
  {
   "cell_type": "markdown",
   "metadata": {},
   "source": [
    "d) Consider the entire dataset as a matrix. Perform SVD and store the dataset approximation in a new `.csv` file. Explain why / how you chose a particular rank. (10 points)"
   ]
  },
  {
   "cell_type": "code",
   "execution_count": null,
   "metadata": {},
   "outputs": [],
   "source": []
  },
  {
   "cell_type": "markdown",
   "metadata": {},
   "source": []
  },
  {
   "cell_type": "markdown",
   "metadata": {},
   "source": [
    "e) As in homework 2, using Kmeans on this new dataset, cluster the images from d) using 10 clusters and plot the centroid of each cluster. (10 points)"
   ]
  },
  {
   "cell_type": "code",
   "execution_count": null,
   "metadata": {},
   "outputs": [],
   "source": []
  },
  {
   "cell_type": "markdown",
   "metadata": {},
   "source": [
    "f) Repeat e) on the original dataset. Comment on any differences (or lack thereof) you observe. (8 points)"
   ]
  },
  {
   "cell_type": "code",
   "execution_count": null,
   "metadata": {},
   "outputs": [],
   "source": []
  },
  {
   "cell_type": "markdown",
   "metadata": {},
   "source": [
    "g) Compare the disagreement distance of the clustering obtained in e) to the true labels, to the disagreement distance of the clustering obtained in f) to the true labels. Comment briefly. (8 points)"
   ]
  },
  {
   "cell_type": "code",
   "execution_count": null,
   "metadata": {},
   "outputs": [],
   "source": [
    "def disagreement_dist(P_labels, C_labels):\n",
    "    return"
   ]
  },
  {
   "cell_type": "markdown",
   "metadata": {},
   "source": []
  },
  {
   "cell_type": "markdown",
   "metadata": {},
   "source": [
    "h) Create a matrix that is the difference between the original dataset and the rank-10 approximation of the dataset. (10 points)"
   ]
  },
  {
   "cell_type": "code",
   "execution_count": null,
   "metadata": {},
   "outputs": [],
   "source": []
  },
  {
   "cell_type": "markdown",
   "metadata": {},
   "source": [
    "i) The largest (using euclidean distance from the origin) rows of the matrix could be considered anomalous data points. Briefly explain why. Plot the 10 images responsible for the 10 largest rows. (5 points)"
   ]
  },
  {
   "cell_type": "code",
   "execution_count": null,
   "metadata": {},
   "outputs": [],
   "source": []
  },
  {
   "cell_type": "markdown",
   "metadata": {},
   "source": []
  },
  {
   "cell_type": "markdown",
   "metadata": {},
   "source": [
    "## Exercise 2 (35 points)\n",
    "\n",
    "a) Modify the code below to pick 4 categories of news articles that you think are minimally related (for example `sci.space` and `rec.sport.baseball`). (3 points)"
   ]
  },
  {
   "cell_type": "code",
   "execution_count": null,
   "metadata": {},
   "outputs": [],
   "source": [
    "import numpy as np\n",
    "import matplotlib.pyplot as plt\n",
    "from sklearn.cluster import KMeans\n",
    "from sklearn.datasets import fetch_20newsgroups\n",
    "from sklearn.feature_extraction.text import TfidfVectorizer\n",
    "from nltk.stem.snowball import SnowballStemmer\n",
    "\n",
    "categories = # your categories here\n",
    "news_data = fetch_20newsgroups(subset='train', categories=categories)"
   ]
  },
  {
   "cell_type": "markdown",
   "metadata": {},
   "source": [
    "b) Using the `SnowballStemmer`, stem the words in every article (10 points)"
   ]
  },
  {
   "cell_type": "code",
   "execution_count": null,
   "metadata": {},
   "outputs": [],
   "source": []
  },
  {
   "cell_type": "markdown",
   "metadata": {},
   "source": [
    "c) Use the `TfidfVectorizer` on the stemmed articles. Set `min_df` and `max_df` to reasonable numbers and briefly explain your reasoning. Store the resulting dataset into a `.csv` file. (7 points)"
   ]
  },
  {
   "cell_type": "code",
   "execution_count": null,
   "metadata": {},
   "outputs": [],
   "source": []
  },
  {
   "cell_type": "markdown",
   "metadata": {},
   "source": [
    "d) For rank k ranging from 1 to 25:\n",
    "\n",
    "1. Reduce the dimensionality of the tfidf vectorized data using a dimension reduction technique discussed in class.\n",
    "2. Apply Kmeans on the reduced dataset to create 4 clusters\n",
    "3. Record the disagreement distance between the clustering in 2 and the article category\n",
    "\n",
    "Then plot the recorded disagreement distance per rank. Comment briefly. (15 points)"
   ]
  },
  {
   "cell_type": "code",
   "execution_count": null,
   "metadata": {},
   "outputs": [],
   "source": [
    "disagreement_distance = []\n",
    "for k in range(1,25):\n",
    "    dim_reduced_dataset = # your code here\n",
    "    kmeans = KMeans(n_clusters=3, init='k-means++', max_iter=100, n_init=10, random_state=0)\n",
    "    kmeans.fit_predict(dim_reduced_dataset)\n",
    "    labelsk = kmeans.labels_\n",
    "    disagreement_distance.append(disagreement_dist(labelsk, news_data.target))\n",
    "\n",
    "plt.plot(range(1,25), disagreement_distance)\n",
    "plt.ylabel('Disagreement')\n",
    "plt.xlabel('Dimension')\n",
    "plt.show()"
   ]
  },
  {
   "cell_type": "markdown",
   "metadata": {},
   "source": []
  }
 ],
 "metadata": {
  "interpreter": {
   "hash": "f2f0d8f4cb3aa975722cf0867e0489d9bb140832f0c7bc3ddf3c0be5b70ad06f"
  },
  "kernelspec": {
   "display_name": "Python 3.9.9 64-bit ('env': venv)",
   "language": "python",
   "name": "python3"
  },
  "language_info": {
   "codemirror_mode": {
    "name": "ipython",
    "version": 3
   },
   "file_extension": ".py",
   "mimetype": "text/x-python",
   "name": "python",
   "nbconvert_exporter": "python",
   "pygments_lexer": "ipython3",
   "version": "3.10.0"
  },
  "orig_nbformat": 4
 },
 "nbformat": 4,
 "nbformat_minor": 2
}
