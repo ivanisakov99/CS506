{
 "cells": [
  {
   "cell_type": "markdown",
   "metadata": {},
   "source": [
    "# Homework 6\n",
    "\n",
    "The focus of this homework will be Network and Graphs as well as Neural Networks.\n",
    "\n",
    "## Exercise 1 [25pts]\n",
    "\n",
    "In this exercise, you will try to recommend new collaborations to researchers\n",
    "of the Machine Learning community. Our approach will follow the guidelines of\n",
    "collaborative filtering: “If your past behavior/preferences were similar\n",
    "to some other user’s, your future behavior may be as well”. As an\n",
    "example, imagine you like Rolling Stones, Beatles and Jimmy Hendrix. It turns\n",
    "out that most people that like the aforementioned artists, are also fans of Eric\n",
    "Clapton. Then, it is very likely that if you listen to Eric Clapton’s music, you\n",
    "will like it as well.\n",
    "\n",
    "In this assignment you will implement a recommendation system for suggesting new collaborations to Machine Learning researchers.\n",
    "\n",
    "A network as a graph: A graph or network represents relationships among\n",
    "different entities (users of a social network, researchers, products, etc.). Those\n",
    "entities are represented as nodes and the relationships between them (friends\n",
    "on Facebook, co-authors of a research paper, products purchased together) as\n",
    "edges. When there is an edge between two nodes, x and y, we say that y is a\n",
    "neighbor (or friend) of x (and also - as the graphs we consider are undirected -\n",
    "x is also a neighbor of y).\n",
    "\n",
    "Each line of `edges.txt` contains the names of two researchers that have co-authored a paper in one of the top Machine Learning conferences (NeurIPS, ICLR, ICML) between 2010 and 2016.\n",
    "\n",
    "a) Write a function that reads the file “old edges.txt” and create a\n",
    "graph using NetworkX. (This is a tab-separated value (TSV) file, you may\n",
    "use packages such as Pandas to read it.) [5pts]"
   ]
  },
  {
   "cell_type": "code",
   "execution_count": 1,
   "metadata": {},
   "outputs": [],
   "source": [
    "import networkx as nx\n",
    "import pandas as pd\n",
    "from collections import Counter\n",
    "import matplotlib.pyplot as plt\n",
    "import pygraphviz as pgv"
   ]
  },
  {
   "cell_type": "code",
   "execution_count": 2,
   "metadata": {},
   "outputs": [
    {
     "data": {
      "text/html": [
       "<div>\n",
       "<style scoped>\n",
       "    .dataframe tbody tr th:only-of-type {\n",
       "        vertical-align: middle;\n",
       "    }\n",
       "\n",
       "    .dataframe tbody tr th {\n",
       "        vertical-align: top;\n",
       "    }\n",
       "\n",
       "    .dataframe thead th {\n",
       "        text-align: right;\n",
       "    }\n",
       "</style>\n",
       "<table border=\"1\" class=\"dataframe\">\n",
       "  <thead>\n",
       "    <tr style=\"text-align: right;\">\n",
       "      <th></th>\n",
       "      <th>source</th>\n",
       "      <th>target</th>\n",
       "    </tr>\n",
       "  </thead>\n",
       "  <tbody>\n",
       "    <tr>\n",
       "      <th>0</th>\n",
       "      <td>A. David Edwards</td>\n",
       "      <td>Daniel Rueckert</td>\n",
       "    </tr>\n",
       "    <tr>\n",
       "      <th>1</th>\n",
       "      <td>A. P. Sarath Chandar</td>\n",
       "      <td>Amrita Saha</td>\n",
       "    </tr>\n",
       "    <tr>\n",
       "      <th>2</th>\n",
       "      <td>A. P. Sarath Chandar</td>\n",
       "      <td>Balaraman Ravindran</td>\n",
       "    </tr>\n",
       "    <tr>\n",
       "      <th>3</th>\n",
       "      <td>A. P. Sarath Chandar</td>\n",
       "      <td>Hugo Larochelle</td>\n",
       "    </tr>\n",
       "    <tr>\n",
       "      <th>4</th>\n",
       "      <td>A. P. Sarath Chandar</td>\n",
       "      <td>Mitesh M. Khapra</td>\n",
       "    </tr>\n",
       "  </tbody>\n",
       "</table>\n",
       "</div>"
      ],
      "text/plain": [
       "                 source               target\n",
       "0      A. David Edwards      Daniel Rueckert\n",
       "1  A. P. Sarath Chandar          Amrita Saha\n",
       "2  A. P. Sarath Chandar  Balaraman Ravindran\n",
       "3  A. P. Sarath Chandar      Hugo Larochelle\n",
       "4  A. P. Sarath Chandar     Mitesh M. Khapra"
      ]
     },
     "execution_count": 2,
     "metadata": {},
     "output_type": "execute_result"
    }
   ],
   "source": [
    "file = pd.read_csv('edges.txt', names=['source', 'target'], sep='\\t')\n",
    "file.head()"
   ]
  },
  {
   "cell_type": "code",
   "execution_count": 3,
   "metadata": {},
   "outputs": [
    {
     "name": "stdout",
     "output_type": "stream",
     "text": [
      "Neighbours: ['Daniel Rueckert', 'Bertrand Thirion', 'David J. Sharp', 'Emma C. Robinson', 'Fani Deligianni', 'Gaël Varoquaux']\n"
     ]
    }
   ],
   "source": [
    "graph = nx.from_pandas_edgelist(file, source='source', target='target')\n",
    "person = 'A. David Edwards'\n",
    "print('Neighbours:', list(graph[person]))"
   ]
  },
  {
   "cell_type": "markdown",
   "metadata": {},
   "source": [
    "b) Recommend by number of common friends. [10pts]\n",
    "\n",
    "The intuition behind this recommendation algorithm is that if non-friend\n",
    "Y is your friend’s friend, then maybe Y should be your friend too. If\n",
    "person Y is the friend of many of your friends, then Y is an even better\n",
    "recommendation.\n",
    "\n",
    "Write a function `common_friends_number(G, X)` that, given G and an author\n",
    "X, returns a list of recommendations for X. The authors in this list are sorted\n",
    "by the number of common neighbors they have with X (and are not of course\n",
    "already friends with X). If there are ties, you can break them arbitrarily."
   ]
  },
  {
   "cell_type": "code",
   "execution_count": 4,
   "metadata": {},
   "outputs": [],
   "source": [
    "def common_friends_number(G, X):\n",
    "    friends = G[X]\n",
    "    recommendations = Counter()\n",
    "\n",
    "    for friend in friends:\n",
    "        for recommendation in G[friend]:\n",
    "            if recommendation not in friends and recommendation != X:\n",
    "                recommendations[recommendation] += 1\n",
    "    \n",
    "    return sorted(recommendations, key=recommendations.get, reverse=True)"
   ]
  },
  {
   "cell_type": "code",
   "execution_count": 5,
   "metadata": {},
   "outputs": [
    {
     "name": "stdout",
     "output_type": "stream",
     "text": [
      "['Alexandre Gramfort', 'Arthur Mensch', 'Danilo Bzdok', 'Elvis Dohmatob', 'Evelyn Eger', 'Jean-Baptiste Poline', 'Julien Mairal', 'Michael Eickenberg', 'Olivier Grisel', 'Vincent Michel', 'Yannick Schwartz', 'Amir Alansary', 'Ben Glocker', 'Bernhard Kainz', 'Christina Malamateniou', 'Joseph V. Hajnal', 'Kevin Keraudren', 'Mary A. Rutherford', 'Matthew C. H. Lee', 'Eugene Belilovsky', 'Matthew B. Blaschko']\n",
      "\n",
      "Number of recommendations 21\n"
     ]
    }
   ],
   "source": [
    "friendRecommendations = common_friends_number(graph, person)\n",
    "print(friendRecommendations)\n",
    "print('\\nNumber of recommendations', len(friendRecommendations))"
   ]
  },
  {
   "cell_type": "markdown",
   "metadata": {},
   "source": [
    "c) Make recommendations using Jaccard’s Index. [10points]\n",
    "\n",
    "If `Γ(X)` is the set of neighbors of X, then the metric we used in part (c), assigns to a non-friend y, the following recommendation score (with respect to X):\n",
    "\n",
    "$$ \\text{score(y)} = |\\Gamma(X) \\cap \\Gamma(y)| $$\n",
    "\n",
    "Jaccard’s Index scales this score by taking into account the union of X and Y ’s neighbors. Intuitively, X and Y are more similar, if what they have in common is as close as possible to what they have together.\n",
    "\n",
    "Write a function `jaccard index(G, X)` that given G and an author X, returns a\n",
    "list of recommendations for X. The authors in this list are sorted by the number\n",
    "of their Jaccard Index with respect to X (and are not of course already friends\n",
    "with X). If there are ties, you can break them arbitrarily.\n",
    "\n",
    "$$ \\text{Jaccard Index} = \\frac{|\\Gamma(X) \\cap \\Gamma(y)|}{|\\Gamma(X) \\cup \\Gamma(y)|}  $$"
   ]
  },
  {
   "cell_type": "code",
   "execution_count": 6,
   "metadata": {},
   "outputs": [],
   "source": [
    "def jaccard_index(G, X):\n",
    "    friends = G[X]\n",
    "    recommendations = Counter()\n",
    "\n",
    "    for friend in friends:\n",
    "        for recommendation in G[friend]:\n",
    "            if recommendation not in friends and recommendation != X:\n",
    "                recommendations[recommendation] += 1\n",
    "\n",
    "    for rec in recommendations:\n",
    "        recommendations[rec] /= len(set(G[X]) | set(G[rec]))\n",
    "    \n",
    "    return sorted(recommendations, key=recommendations.get, reverse=True)"
   ]
  },
  {
   "cell_type": "code",
   "execution_count": 7,
   "metadata": {},
   "outputs": [
    {
     "name": "stdout",
     "output_type": "stream",
     "text": [
      "['Yannick Schwartz', 'Elvis Dohmatob', 'Jean-Baptiste Poline', 'Arthur Mensch', 'Danilo Bzdok', 'Evelyn Eger', 'Michael Eickenberg', 'Olivier Grisel', 'Vincent Michel', 'Alexandre Gramfort', 'Eugene Belilovsky', 'Julien Mairal', 'Amir Alansary', 'Ben Glocker', 'Bernhard Kainz', 'Christina Malamateniou', 'Joseph V. Hajnal', 'Kevin Keraudren', 'Mary A. Rutherford', 'Matthew C. H. Lee', 'Matthew B. Blaschko']\n",
      "\n",
      "Number of recommendations 21\n"
     ]
    }
   ],
   "source": [
    "friendRecommendations = jaccard_index(graph, person)\n",
    "print(friendRecommendations)\n",
    "print('\\nNumber of recommendations', len(friendRecommendations))"
   ]
  },
  {
   "cell_type": "markdown",
   "metadata": {},
   "source": [
    "## Exercise 2 [55pts]\n",
    "\n",
    "This exercise will focus on Neural Networks and visualization.\n",
    "\n",
    "a) Write a function that takes a keras network and outputs an image (png format) of the network. [10pts]\n",
    "\n",
    "You can assume the model is sequential and only uses dense layers. The output image for\n",
    "\n",
    "```python\n",
    "    model = keras.models.Sequential()\n",
    "    model.add(layers.Dense(2, input_dim=2))\n",
    "    model.add(layers.Dense(1))\n",
    "    model.compile(loss=\"binary_crossentropy\")\n",
    "```\n",
    "\n",
    "should look something like this"
   ]
  },
  {
   "cell_type": "code",
   "execution_count": 8,
   "metadata": {},
   "outputs": [
    {
     "data": {
      "image/png": "[encoded data removed]",
      "text/plain": [
       "<IPython.core.display.Image object>"
      ]
     },
     "execution_count": 8,
     "metadata": {},
     "output_type": "execute_result"
    }
   ],
   "source": [
    "from IPython.display import Image\n",
    "Image(filename=\"example.png\")"
   ]
  },
  {
   "cell_type": "markdown",
   "metadata": {},
   "source": [
    "Hint: use the networkx library (specifically the [to_agraph](https://networkx.org/documentation/stable/reference/generated/networkx.drawing.nx_agraph.to_agraph.html) method)"
   ]
  },
  {
   "cell_type": "code",
   "execution_count": 9,
   "metadata": {},
   "outputs": [],
   "source": [
    "def visualiseNetwork(network, save = True):\n",
    "    G = nx.DiGraph(nodesep='1', ranksep='1')\n",
    "\n",
    "    # Iterate over the layers\n",
    "    for layer_index, layer in enumerate(network.layers):\n",
    "\n",
    "        for i in range(layer.input_shape[1]):\n",
    "            colour = ''\n",
    "            if layer_index == 0:    # Input Node\n",
    "                colour = \"#0000FF\"\n",
    "            else:   # Hidden Node\n",
    "                colour = \"#00FF00\"\n",
    "\n",
    "\n",
    "            G.add_node(str(layer_index) + ',' + str(i),\n",
    "                               shape=\"circle\",\n",
    "                            #    color=\"#00FF00\",\n",
    "                               color=colour,\n",
    "                               label='')\n",
    "\n",
    "\n",
    "            for j in range(layer.output_shape[1]):\n",
    "                if layer_index == len(network.layers) - 1:  # Output Node\n",
    "                    G.add_node(\n",
    "                        str(layer_index + 1) + ',' + str(j),\n",
    "                        shape=\"circle\",\n",
    "                        color=\"#0000FF\",\n",
    "                        label=''\n",
    "                    )\n",
    "                \n",
    "                # Connect the nodes between the layers\n",
    "                G.add_edge(\n",
    "                    str(layer_index) + ',' + str(i),\n",
    "                    str(layer_index + 1) + ',' + str(j),\n",
    "                    color=\"#FF0000\"\n",
    "                )\n",
    "\n",
    "    if save:\n",
    "        img = nx.nx_agraph.to_agraph(G)\n",
    "        img.layout(prog='dot')\n",
    "        img.draw('graph.png')\n",
    "    else:\n",
    "        nx.draw(G)\n"
   ]
  },
  {
   "cell_type": "code",
   "execution_count": 10,
   "metadata": {},
   "outputs": [
    {
     "name": "stderr",
     "output_type": "stream",
     "text": [
      "2022-04-27 19:26:42.091602: I tensorflow/core/platform/cpu_feature_guard.cc:142] This TensorFlow binary is optimized with oneAPI Deep Neural Network Library (oneDNN) to use the following CPU instructions in performance-critical operations:  SSE4.1 SSE4.2 AVX AVX2 FMA\n",
      "To enable them in other operations, rebuild TensorFlow with the appropriate compiler flags.\n"
     ]
    },
    {
     "data": {
      "image/png": "[encoded data removed]",
      "text/plain": [
       "<IPython.core.display.Image object>"
      ]
     },
     "execution_count": 10,
     "metadata": {},
     "output_type": "execute_result"
    }
   ],
   "source": [
    "# TODO\n",
    "from tensorflow import keras\n",
    "from tensorflow.keras import layers\n",
    "\n",
    "model = keras.models.Sequential()\n",
    "model.add(layers.Dense(2, input_dim=2))\n",
    "model.add(layers.Dense(1))\n",
    "model.compile(loss=\"binary_crossentropy\")\n",
    "\n",
    "visualiseNetwork(model)\n",
    "Image(filename='graph.png')"
   ]
  },
  {
   "cell_type": "markdown",
   "metadata": {},
   "source": [
    "b) Generate 100 datapoints of the form y = 3x + 1 + e where e ~ N(0, 1) and plot the data in a scatter plot [5pts]"
   ]
  },
  {
   "cell_type": "code",
   "execution_count": 11,
   "metadata": {},
   "outputs": [
    {
     "data": {
      "text/plain": [
       "<matplotlib.collections.PathCollection at 0x7f945b3d9fa0>"
      ]
     },
     "execution_count": 11,
     "metadata": {},
     "output_type": "execute_result"
    },
    {
     "data": {
      "image/png": "[encoded data removed]",
      "text/plain": [
       "<Figure size 432x288 with 1 Axes>"
      ]
     },
     "metadata": {
      "needs_background": "light"
     },
     "output_type": "display_data"
    }
   ],
   "source": [
    "import random\n",
    "import numpy as np\n",
    "# import sklearn.datasets as datasets\n",
    "\n",
    "X = np.linspace(0, 10, 100)\n",
    "Y = np.array([3 * x + 1 + random.normalvariate(0, 1) for x in X])\n",
    "\n",
    "plt.scatter(X, Y)"
   ]
  },
  {
   "cell_type": "markdown",
   "metadata": {},
   "source": [
    "c) Create a Neural Network with no hidden layers (just input to ouput each with just one neuron), using the `mean_squared_error` loss and no activation function. Create an image of this model using a) then train this model on the dataset from b). In a 3D plot, plot the weight, the bias, and the loss value. [10pts]"
   ]
  },
  {
   "cell_type": "code",
   "execution_count": 12,
   "metadata": {},
   "outputs": [
    {
     "name": "stderr",
     "output_type": "stream",
     "text": [
      "2022-04-27 19:26:43.249938: I tensorflow/compiler/mlir/mlir_graph_optimization_pass.cc:116] None of the MLIR optimization passes are enabled (registered 2)\n"
     ]
    },
    {
     "name": "stdout",
     "output_type": "stream",
     "text": [
      "Epoch 1/5\n",
      "10/10 [==============================] - 0s 5ms/step - loss: 556.8115\n",
      "Epoch 2/5\n",
      "10/10 [==============================] - 0s 2ms/step - loss: 628.7061\n",
      "Epoch 3/5\n",
      "10/10 [==============================] - 0s 2ms/step - loss: 596.0793\n",
      "Epoch 4/5\n",
      "10/10 [==============================] - 0s 3ms/step - loss: 682.1055\n",
      "Epoch 5/5\n",
      "10/10 [==============================] - 0s 2ms/step - loss: 659.1340\n",
      "History: [622.8635864257812, 618.5006713867188, 615.0416870117188, 611.8281860351562, 608.6975708007812]\n",
      "[array([[-1.1070933]], dtype=float32), array([0.05880957], dtype=float32)]\n"
     ]
    },
    {
     "data": {
      "image/png": "[encoded data removed]",
      "text/plain": [
       "<Figure size 432x288 with 1 Axes>"
      ]
     },
     "metadata": {},
     "output_type": "display_data"
    }
   ],
   "source": [
    "\n",
    "# TODO\n",
    "model = keras.models.Sequential()\n",
    "model.add(layers.Dense(units=1, input_dim=1))\n",
    "model.compile(loss='mean_squared_error')\n",
    "\n",
    "visualiseNetwork(model, save=False)\n",
    "\n",
    "history = model.fit(X, Y, batch_size=10, epochs=5)\n",
    "print('History:', history.history['loss'])\n",
    "\n",
    "# loss = model.train_on_batch(X, Y)\n",
    "# weight, bias = model.layers[0].get_weights()\n",
    "# print(weight, bias)\n",
    "print(history.model.get_weights())"
   ]
  },
  {
   "cell_type": "markdown",
   "metadata": {},
   "source": [
    "d) Using matplotlib animation, re-train the model from c) and create an animation of the weight, bias, and loss at each training epoch. [10pts]"
   ]
  },
  {
   "cell_type": "code",
   "execution_count": 13,
   "metadata": {},
   "outputs": [],
   "source": [
    "# TODO\n",
    "# from matplotlib import animation, rc\n",
    "# rc('animation', html='html5')\n",
    "# plt.style.use('seaborn-whitegrid')\n",
    "\n",
    "# fig = plt.figure(dpi=100, figsize=(8, 3))\n"
   ]
  },
  {
   "cell_type": "markdown",
   "metadata": {},
   "source": [
    "e) Generate data of the form y = 3x^3 + 2x^2 + x + 1 + e where e ~ N(0, 1) and plot the data in a scatter plot [5pts]"
   ]
  },
  {
   "cell_type": "code",
   "execution_count": 14,
   "metadata": {},
   "outputs": [
    {
     "data": {
      "text/plain": [
       "<matplotlib.collections.PathCollection at 0x7f945c0ab760>"
      ]
     },
     "execution_count": 14,
     "metadata": {},
     "output_type": "execute_result"
    },
    {
     "data": {
      "image/png": "[encoded data removed]",
      "text/plain": [
       "<Figure size 432x288 with 1 Axes>"
      ]
     },
     "metadata": {
      "needs_background": "light"
     },
     "output_type": "display_data"
    }
   ],
   "source": [
    "X = np.linspace(-10, 10, 100)\n",
    "Y = [\n",
    "    3 * (x**3) + 2 * (x**2) + x + 1 + random.normalvariate(0, 1) for x in X\n",
    "]\n",
    "\n",
    "plt.scatter(X, Y)"
   ]
  },
  {
   "cell_type": "markdown",
   "metadata": {},
   "source": [
    "f) Create and train a neural network on the dataset from b) and plot the resulting curve through the scatter plot. (you can use any number of epochs, hidden layers etc.) Also create an image of the network using the function from a) [10pts]"
   ]
  },
  {
   "cell_type": "code",
   "execution_count": 15,
   "metadata": {},
   "outputs": [
    {
     "data": {
      "text/plain": [
       "<matplotlib.collections.PathCollection at 0x7f945c45a160>"
      ]
     },
     "execution_count": 15,
     "metadata": {},
     "output_type": "execute_result"
    },
    {
     "data": {
      "image/png": "[encoded data removed]",
      "text/plain": [
       "<Figure size 432x288 with 1 Axes>"
      ]
     },
     "metadata": {
      "needs_background": "light"
     },
     "output_type": "display_data"
    }
   ],
   "source": [
    "# TODO\n",
    "X = np.linspace(0, 10, 100)\n",
    "Y = np.array([3 * x + 1 + random.normalvariate(0, 1) for x in X])\n",
    "\n",
    "model = keras.models.Sequential()\n",
    "model.add(layers.Dense(2, input_dim=1))\n",
    "model.add(layers.Dense(2))\n",
    "model.add(layers.Dense(1))\n",
    "model.compile(loss=\"binary_crossentropy\")\n",
    "# visualiseNetwork(model, save=False)\n",
    "\n",
    "history = model.fit(X, Y, batch_size=10, epochs=100, verbose=0)\n",
    "\n",
    "y_pred = model.predict(X)\n",
    "\n",
    "plt.scatter(X, y_pred)"
   ]
  },
  {
   "cell_type": "markdown",
   "metadata": {},
   "source": [
    "g) Using matplotlib animation, create an animation of the resulting curve from your model at each training epoch (up to 100 epochs). [5pts]"
   ]
  },
  {
   "cell_type": "code",
   "execution_count": 16,
   "metadata": {},
   "outputs": [],
   "source": [
    "def helper(m, X, Y, filename):\n",
    "    # create a mesh to plot in\n",
    "    h = .02  # step size in the mesh\n",
    "    x_min, x_max = X[:, 0].min() - .5, X[:, 0].max() + .5\n",
    "    y_min, y_max = X[:, 1].min() - .5, X[:, 1].max() + .5\n",
    "    xx, yy = np.meshgrid(np.arange(x_min, x_max, h),\n",
    "                            np.arange(y_min, y_max, h))\n",
    "    meshData = np.c_[xx.ravel(), yy.ravel()]\n",
    "\n",
    "    # TODO catch max number of classes\n",
    "    colors = np.array([x for x in 'bgrcmyk'])\n",
    "\n",
    "    fig, ax = plt.subplots(frameon=False)\n",
    "    ax.scatter(X[:, 0], X[:, 1], color=colors[Y].tolist(), s=100, alpha=.9)\n",
    "    Z = m.predict(meshData)\n",
    "    Z = np.array([int(round(z[0])) for z in Z]).reshape(xx.shape)\n",
    "    ax.contourf(xx, yy, Z, alpha=.5, cmap=plt.cm.Paired)\n",
    "    fig.savefig(filename + '.png')\n",
    "    plt.close()\n",
    "\n",
    "    return np.asarray(im.open(filename + '.png'))"
   ]
  },
  {
   "cell_type": "code",
   "execution_count": 17,
   "metadata": {},
   "outputs": [
    {
     "name": "stdout",
     "output_type": "stream",
     "text": [
      "Epoch 1/10\n",
      "4/4 [==============================] - 1s 3ms/step - loss: 248.4558\n",
      "Epoch 2/10\n",
      "4/4 [==============================] - 0s 16ms/step - loss: 248.4558\n",
      "Epoch 3/10\n",
      "4/4 [==============================] - 0s 14ms/step - loss: 248.4558\n",
      "Epoch 4/10\n",
      "4/4 [==============================] - 0s 8ms/step - loss: 248.4558\n",
      "Epoch 5/10\n",
      "4/4 [==============================] - 0s 4ms/step - loss: 248.4558\n",
      "Epoch 6/10\n",
      "4/4 [==============================] - 0s 6ms/step - loss: 248.4558\n",
      "Epoch 7/10\n",
      "4/4 [==============================] - 0s 8ms/step - loss: 248.4558\n",
      "Epoch 8/10\n",
      "4/4 [==============================] - 0s 4ms/step - loss: 248.4558\n",
      "Epoch 9/10\n",
      "4/4 [==============================] - 0s 5ms/step - loss: 248.4558\n",
      "Epoch 10/10\n",
      "4/4 [==============================] - 0s 4ms/step - loss: 248.4558\n"
     ]
    },
    {
     "ename": "IndexError",
     "evalue": "too many indices for array: array is 1-dimensional, but 2 were indexed",
     "output_type": "error",
     "traceback": [
      "\u001b[0;31m---------------------------------------------------------------------------\u001b[0m",
      "\u001b[0;31mIndexError\u001b[0m                                Traceback (most recent call last)",
      "\u001b[1;32m/Users/ivan/Developer/CS506/HW/6. Networks, Graphs and Neural Networks/homework6.ipynb Cell 28'\u001b[0m in \u001b[0;36m<cell line: 8>\u001b[0;34m()\u001b[0m\n\u001b[1;32m      <a href='vscode-notebook-cell:/Users/ivan/Developer/CS506/HW/6.%20Networks%2C%20Graphs%20and%20Neural%20Networks/homework6.ipynb#ch0000026?line=7'>8</a>\u001b[0m \u001b[39mfor\u001b[39;00m _ \u001b[39min\u001b[39;00m \u001b[39mrange\u001b[39m(\u001b[39mint\u001b[39m(epochs \u001b[39m/\u001b[39m \u001b[39m10\u001b[39m)):\n\u001b[1;32m      <a href='vscode-notebook-cell:/Users/ivan/Developer/CS506/HW/6.%20Networks%2C%20Graphs%20and%20Neural%20Networks/homework6.ipynb#ch0000026?line=8'>9</a>\u001b[0m     model\u001b[39m.\u001b[39mfit(X, Y, epochs\u001b[39m=\u001b[39m\u001b[39m10\u001b[39m)\n\u001b[0;32m---> <a href='vscode-notebook-cell:/Users/ivan/Developer/CS506/HW/6.%20Networks%2C%20Graphs%20and%20Neural%20Networks/homework6.ipynb#ch0000026?line=9'>10</a>\u001b[0m     images\u001b[39m.\u001b[39mappend(im\u001b[39m.\u001b[39mfromarray(helper(model, X, Y, filename)))\n\u001b[1;32m     <a href='vscode-notebook-cell:/Users/ivan/Developer/CS506/HW/6.%20Networks%2C%20Graphs%20and%20Neural%20Networks/homework6.ipynb#ch0000026?line=11'>12</a>\u001b[0m images[\u001b[39m0\u001b[39m]\u001b[39m.\u001b[39msave(\n\u001b[1;32m     <a href='vscode-notebook-cell:/Users/ivan/Developer/CS506/HW/6.%20Networks%2C%20Graphs%20and%20Neural%20Networks/homework6.ipynb#ch0000026?line=12'>13</a>\u001b[0m     filename \u001b[39m+\u001b[39m \u001b[39m'\u001b[39m\u001b[39m.gif\u001b[39m\u001b[39m'\u001b[39m,\n\u001b[1;32m     <a href='vscode-notebook-cell:/Users/ivan/Developer/CS506/HW/6.%20Networks%2C%20Graphs%20and%20Neural%20Networks/homework6.ipynb#ch0000026?line=13'>14</a>\u001b[0m     optimize\u001b[39m=\u001b[39m\u001b[39mFalse\u001b[39;00m,  \u001b[39m# important for transparent background\u001b[39;00m\n\u001b[0;32m   (...)\u001b[0m\n\u001b[1;32m     <a href='vscode-notebook-cell:/Users/ivan/Developer/CS506/HW/6.%20Networks%2C%20Graphs%20and%20Neural%20Networks/homework6.ipynb#ch0000026?line=17'>18</a>\u001b[0m     duration\u001b[39m=\u001b[39m\u001b[39m1000\u001b[39m\n\u001b[1;32m     <a href='vscode-notebook-cell:/Users/ivan/Developer/CS506/HW/6.%20Networks%2C%20Graphs%20and%20Neural%20Networks/homework6.ipynb#ch0000026?line=18'>19</a>\u001b[0m )\n",
      "\u001b[1;32m/Users/ivan/Developer/CS506/HW/6. Networks, Graphs and Neural Networks/homework6.ipynb Cell 27'\u001b[0m in \u001b[0;36mhelper\u001b[0;34m(m, X, Y, filename)\u001b[0m\n\u001b[1;32m      <a href='vscode-notebook-cell:/Users/ivan/Developer/CS506/HW/6.%20Networks%2C%20Graphs%20and%20Neural%20Networks/homework6.ipynb#ch0000039?line=0'>1</a>\u001b[0m \u001b[39mdef\u001b[39;00m \u001b[39mhelper\u001b[39m(m, X, Y, filename):\n\u001b[1;32m      <a href='vscode-notebook-cell:/Users/ivan/Developer/CS506/HW/6.%20Networks%2C%20Graphs%20and%20Neural%20Networks/homework6.ipynb#ch0000039?line=1'>2</a>\u001b[0m     \u001b[39m# create a mesh to plot in\u001b[39;00m\n\u001b[1;32m      <a href='vscode-notebook-cell:/Users/ivan/Developer/CS506/HW/6.%20Networks%2C%20Graphs%20and%20Neural%20Networks/homework6.ipynb#ch0000039?line=2'>3</a>\u001b[0m     h \u001b[39m=\u001b[39m \u001b[39m.02\u001b[39m  \u001b[39m# step size in the mesh\u001b[39;00m\n\u001b[0;32m----> <a href='vscode-notebook-cell:/Users/ivan/Developer/CS506/HW/6.%20Networks%2C%20Graphs%20and%20Neural%20Networks/homework6.ipynb#ch0000039?line=3'>4</a>\u001b[0m     x_min, x_max \u001b[39m=\u001b[39m X[:, \u001b[39m0\u001b[39;49m]\u001b[39m.\u001b[39mmin() \u001b[39m-\u001b[39m \u001b[39m.5\u001b[39m, X[:, \u001b[39m0\u001b[39m]\u001b[39m.\u001b[39mmax() \u001b[39m+\u001b[39m \u001b[39m.5\u001b[39m\n\u001b[1;32m      <a href='vscode-notebook-cell:/Users/ivan/Developer/CS506/HW/6.%20Networks%2C%20Graphs%20and%20Neural%20Networks/homework6.ipynb#ch0000039?line=4'>5</a>\u001b[0m     y_min, y_max \u001b[39m=\u001b[39m X[:, \u001b[39m1\u001b[39m]\u001b[39m.\u001b[39mmin() \u001b[39m-\u001b[39m \u001b[39m.5\u001b[39m, X[:, \u001b[39m1\u001b[39m]\u001b[39m.\u001b[39mmax() \u001b[39m+\u001b[39m \u001b[39m.5\u001b[39m\n\u001b[1;32m      <a href='vscode-notebook-cell:/Users/ivan/Developer/CS506/HW/6.%20Networks%2C%20Graphs%20and%20Neural%20Networks/homework6.ipynb#ch0000039?line=5'>6</a>\u001b[0m     xx, yy \u001b[39m=\u001b[39m np\u001b[39m.\u001b[39mmeshgrid(np\u001b[39m.\u001b[39marange(x_min, x_max, h),\n\u001b[1;32m      <a href='vscode-notebook-cell:/Users/ivan/Developer/CS506/HW/6.%20Networks%2C%20Graphs%20and%20Neural%20Networks/homework6.ipynb#ch0000039?line=6'>7</a>\u001b[0m                             np\u001b[39m.\u001b[39marange(y_min, y_max, h))\n",
      "\u001b[0;31mIndexError\u001b[0m: too many indices for array: array is 1-dimensional, but 2 were indexed"
     ]
    }
   ],
   "source": [
    "# TODO\n",
    "from PIL import Image as im\n",
    "\n",
    "epochs = 100\n",
    "images = []\n",
    "filename = 'test'\n",
    "\n",
    "for _ in range(int(epochs / 10)):\n",
    "    model.fit(X, Y, epochs=10)\n",
    "    images.append(im.fromarray(helper(model, X, Y, filename)))\n",
    "\n",
    "images[0].save(\n",
    "    filename + '.gif',\n",
    "    optimize=False,  # important for transparent background\n",
    "    save_all=True,\n",
    "    append_images=images[1:],\n",
    "    loop=0,\n",
    "    duration=1000\n",
    ")"
   ]
  },
  {
   "cell_type": "markdown",
   "metadata": {},
   "source": [
    "## Exercise 3 [20pts]\n",
    "\n",
    "This exercise will focus on Neural Networks.\n",
    "\n"
   ]
  },
  {
   "cell_type": "code",
   "execution_count": 1,
   "metadata": {},
   "outputs": [],
   "source": [
    "from torch.utils.data import Dataset\n",
    "from torchvision import datasets\n",
    "from torchvision.transforms import ToTensor\n",
    "import matplotlib.pyplot as plt\n",
    "import torch \n",
    "import torch.nn as nn \n",
    "import torch.nn.functional as F\n",
    "import torchvision \n",
    "import torchvision.transforms as transforms \n",
    "from torch.optim import SGD, Adam\n",
    "from tqdm import tqdm "
   ]
  },
  {
   "cell_type": "markdown",
   "metadata": {},
   "source": [
    "a) Modify the number of layers to include atleast 2 hidden layers with appropriate number of neurons that use the sigmoid function in the forward pass: [5pts]"
   ]
  },
  {
   "cell_type": "code",
   "execution_count": 2,
   "metadata": {},
   "outputs": [],
   "source": [
    "class NeuralNetwork(nn.Module):\n",
    "  def __init__(self, input_size):\n",
    "    super(NeuralNetwork, self).__init__()\n",
    "    # You are free to define any number of layers you want to here\n",
    "\n",
    "    self.layer1 = nn.Linear(input_size, 800)\n",
    "    # your code here\n",
    "    self.layer2 = nn.Linear(800, 800)\n",
    "    self.layer3 = nn.Linear(800, 300)\n",
    "\n",
    "    self.output = nn.Linear(300, 10)  \n",
    "    self.dropout = nn.Dropout(0.2)\n",
    "\n",
    "\n",
    "  def forward(self, input):\n",
    "    x = F.relu(self.layer1(input))\n",
    "    \n",
    "    # your code here\n",
    "    # x = self.sigmoid(self.layer2(x))\n",
    "    # x = self.sigmoid(self.layer3(x))\n",
    "    x = torch.sigmoid(self.layer2(x))\n",
    "    x = torch.sigmoid(self.layer3(x))\n",
    "\n",
    "    x = self.dropout(x)\n",
    "    outputs = self.output(x)\n",
    "\n",
    "    # ??\n",
    "    # return F.softmax(outputs)\n",
    "    return F.softmax(outputs, dim=-1)"
   ]
  },
  {
   "cell_type": "markdown",
   "metadata": {},
   "source": [
    "b) Modify the following values to provide the highest accuracy on your Neural Network [2pts]"
   ]
  },
  {
   "cell_type": "code",
   "execution_count": 3,
   "metadata": {},
   "outputs": [],
   "source": [
    "epochs = 10                      # number of epochs\n",
    "device = torch.device(\"cuda\" if torch.cuda.is_available() else \"cpu\")     # device\n",
    "criterion = nn.CrossEntropyLoss() # loss function\n",
    "batch_size = 500"
   ]
  },
  {
   "cell_type": "markdown",
   "metadata": {},
   "source": [
    "Run the following cell everytime you update parts a and b"
   ]
  },
  {
   "cell_type": "code",
   "execution_count": 4,
   "metadata": {},
   "outputs": [],
   "source": [
    "net = NeuralNetwork(784).to(device)\n",
    "optimizer = Adam(net.parameters(), lr = 1e-2)\n",
    "\n",
    "total_loss = 0\n",
    "\n",
    "\n",
    "#######################################\n",
    "### Downloading the data\n",
    "\n",
    "\n",
    "training_data = datasets.FashionMNIST(\n",
    "    root=\"data\",\n",
    "    train=True,\n",
    "    download=True,\n",
    "    transform=ToTensor()\n",
    ")\n",
    "\n",
    "test_data = datasets.FashionMNIST(\n",
    "    root=\"data\",\n",
    "    train=False,\n",
    "    download=True,\n",
    "    transform=ToTensor()\n",
    ")\n",
    "\n",
    "train_dataloader = torch.utils.data.DataLoader(training_data, batch_size = batch_size, shuffle = True, num_workers=2, drop_last=True)\n",
    "train_dataloader2 = torch.utils.data.DataLoader(training_data, batch_size = batch_size, shuffle = True, num_workers=2, drop_last=True)\n",
    "\n",
    "test_dataloader = torch.utils.data.DataLoader(test_data, batch_size = batch_size, shuffle = True, num_workers=2, drop_last=True)\n",
    "test_dataloader2 = torch.utils.data.DataLoader(test_data,\n",
    "                                               batch_size=batch_size,\n",
    "                                               shuffle=True,\n",
    "                                               num_workers=2,\n",
    "                                               drop_last=True)\n"
   ]
  },
  {
   "cell_type": "markdown",
   "metadata": {},
   "source": [
    "c) You may change the model to increase the accuracy of this model. The goal is to attain the highest possible accuracy. You do not get marks for accuracies less than 83%. You may modify the values in parts a and b [8pts]"
   ]
  },
  {
   "cell_type": "code",
   "execution_count": 5,
   "metadata": {},
   "outputs": [
    {
     "name": "stderr",
     "output_type": "stream",
     "text": [
      " 10%|█         | 1/10 [01:14<11:08, 74.29s/it]"
     ]
    },
    {
     "name": "stdout",
     "output_type": "stream",
     "text": [
      " — epoch loss = 239.22 — training accuracy = 0.67 — test accuracy = 0.66\n"
     ]
    },
    {
     "name": "stderr",
     "output_type": "stream",
     "text": [
      " 20%|██        | 2/10 [02:26<09:43, 72.90s/it]"
     ]
    },
    {
     "name": "stdout",
     "output_type": "stream",
     "text": [
      " — epoch loss = 211.66 — training accuracy = 0.71 — test accuracy = 0.71\n"
     ]
    },
    {
     "name": "stderr",
     "output_type": "stream",
     "text": [
      " 30%|███       | 3/10 [03:18<07:24, 63.54s/it]"
     ]
    },
    {
     "name": "stdout",
     "output_type": "stream",
     "text": [
      " — epoch loss = 209.72 — training accuracy = 0.72 — test accuracy = 0.71\n"
     ]
    },
    {
     "name": "stderr",
     "output_type": "stream",
     "text": [
      " 40%|████      | 4/10 [04:13<06:00, 60.04s/it]"
     ]
    },
    {
     "name": "stdout",
     "output_type": "stream",
     "text": [
      " — epoch loss = 209.29 — training accuracy = 0.73 — test accuracy = 0.72\n"
     ]
    },
    {
     "name": "stderr",
     "output_type": "stream",
     "text": [
      " 50%|█████     | 5/10 [05:15<05:03, 60.64s/it]"
     ]
    },
    {
     "name": "stdout",
     "output_type": "stream",
     "text": [
      " — epoch loss = 208.22 — training accuracy = 0.73 — test accuracy = 0.72\n"
     ]
    },
    {
     "name": "stderr",
     "output_type": "stream",
     "text": [
      " 60%|██████    | 6/10 [06:18<04:06, 61.75s/it]"
     ]
    },
    {
     "name": "stdout",
     "output_type": "stream",
     "text": [
      " — epoch loss = 207.74 — training accuracy = 0.73 — test accuracy = 0.72\n"
     ]
    },
    {
     "name": "stderr",
     "output_type": "stream",
     "text": [
      " 70%|███████   | 7/10 [07:23<03:07, 62.63s/it]"
     ]
    },
    {
     "name": "stdout",
     "output_type": "stream",
     "text": [
      " — epoch loss = 208.00 — training accuracy = 0.74 — test accuracy = 0.73\n"
     ]
    },
    {
     "name": "stderr",
     "output_type": "stream",
     "text": [
      " 80%|████████  | 8/10 [08:20<02:01, 60.75s/it]"
     ]
    },
    {
     "name": "stdout",
     "output_type": "stream",
     "text": [
      " — epoch loss = 207.41 — training accuracy = 0.74 — test accuracy = 0.72\n"
     ]
    },
    {
     "name": "stderr",
     "output_type": "stream",
     "text": [
      " 80%|████████  | 8/10 [08:31<02:07, 63.91s/it]\n"
     ]
    },
    {
     "ename": "KeyboardInterrupt",
     "evalue": "",
     "output_type": "error",
     "traceback": [
      "\u001b[0;31m---------------------------------------------------------------------------\u001b[0m",
      "\u001b[0;31mKeyboardInterrupt\u001b[0m                         Traceback (most recent call last)",
      "\u001b[1;32m/Users/ivan/Developer/CS506/HW/6. Networks, Graphs and Neural Networks/homework6.ipynb Cell 37'\u001b[0m in \u001b[0;36m<cell line: 1>\u001b[0;34m()\u001b[0m\n\u001b[1;32m      <a href='vscode-notebook-cell:/Users/ivan/Developer/CS506/HW/6.%20Networks%2C%20Graphs%20and%20Neural%20Networks/homework6.ipynb#ch0000035?line=8'>9</a>\u001b[0m labels_ \u001b[39m=\u001b[39m F\u001b[39m.\u001b[39mone_hot(labels, num_classes\u001b[39m=\u001b[39m \u001b[39m10\u001b[39m)\n\u001b[1;32m     <a href='vscode-notebook-cell:/Users/ivan/Developer/CS506/HW/6.%20Networks%2C%20Graphs%20and%20Neural%20Networks/homework6.ipynb#ch0000035?line=10'>11</a>\u001b[0m loss \u001b[39m=\u001b[39m criterion(outputs,labels_\u001b[39m.\u001b[39mto(device)\u001b[39m.\u001b[39mfloat())\n\u001b[0;32m---> <a href='vscode-notebook-cell:/Users/ivan/Developer/CS506/HW/6.%20Networks%2C%20Graphs%20and%20Neural%20Networks/homework6.ipynb#ch0000035?line=11'>12</a>\u001b[0m loss\u001b[39m.\u001b[39;49mbackward()  \u001b[39m# update network parameters\u001b[39;00m\n\u001b[1;32m     <a href='vscode-notebook-cell:/Users/ivan/Developer/CS506/HW/6.%20Networks%2C%20Graphs%20and%20Neural%20Networks/homework6.ipynb#ch0000035?line=13'>14</a>\u001b[0m optimizer\u001b[39m.\u001b[39mstep() \u001b[39m# update the optimizer parameters\u001b[39;00m\n\u001b[1;32m     <a href='vscode-notebook-cell:/Users/ivan/Developer/CS506/HW/6.%20Networks%2C%20Graphs%20and%20Neural%20Networks/homework6.ipynb#ch0000035?line=15'>16</a>\u001b[0m total_loss \u001b[39m+\u001b[39m\u001b[39m=\u001b[39m loss\u001b[39m.\u001b[39mitem()\n",
      "File \u001b[0;32m~/opt/anaconda3/envs/hw6/lib/python3.9/site-packages/torch/_tensor.py:363\u001b[0m, in \u001b[0;36mTensor.backward\u001b[0;34m(self, gradient, retain_graph, create_graph, inputs)\u001b[0m\n\u001b[1;32m    <a href='file:///Users/ivan/opt/anaconda3/envs/hw6/lib/python3.9/site-packages/torch/_tensor.py?line=353'>354</a>\u001b[0m \u001b[39mif\u001b[39;00m has_torch_function_unary(\u001b[39mself\u001b[39m):\n\u001b[1;32m    <a href='file:///Users/ivan/opt/anaconda3/envs/hw6/lib/python3.9/site-packages/torch/_tensor.py?line=354'>355</a>\u001b[0m     \u001b[39mreturn\u001b[39;00m handle_torch_function(\n\u001b[1;32m    <a href='file:///Users/ivan/opt/anaconda3/envs/hw6/lib/python3.9/site-packages/torch/_tensor.py?line=355'>356</a>\u001b[0m         Tensor\u001b[39m.\u001b[39mbackward,\n\u001b[1;32m    <a href='file:///Users/ivan/opt/anaconda3/envs/hw6/lib/python3.9/site-packages/torch/_tensor.py?line=356'>357</a>\u001b[0m         (\u001b[39mself\u001b[39m,),\n\u001b[0;32m   (...)\u001b[0m\n\u001b[1;32m    <a href='file:///Users/ivan/opt/anaconda3/envs/hw6/lib/python3.9/site-packages/torch/_tensor.py?line=360'>361</a>\u001b[0m         create_graph\u001b[39m=\u001b[39mcreate_graph,\n\u001b[1;32m    <a href='file:///Users/ivan/opt/anaconda3/envs/hw6/lib/python3.9/site-packages/torch/_tensor.py?line=361'>362</a>\u001b[0m         inputs\u001b[39m=\u001b[39minputs)\n\u001b[0;32m--> <a href='file:///Users/ivan/opt/anaconda3/envs/hw6/lib/python3.9/site-packages/torch/_tensor.py?line=362'>363</a>\u001b[0m torch\u001b[39m.\u001b[39;49mautograd\u001b[39m.\u001b[39;49mbackward(\u001b[39mself\u001b[39;49m, gradient, retain_graph, create_graph, inputs\u001b[39m=\u001b[39;49minputs)\n",
      "File \u001b[0;32m~/opt/anaconda3/envs/hw6/lib/python3.9/site-packages/torch/autograd/__init__.py:173\u001b[0m, in \u001b[0;36mbackward\u001b[0;34m(tensors, grad_tensors, retain_graph, create_graph, grad_variables, inputs)\u001b[0m\n\u001b[1;32m    <a href='file:///Users/ivan/opt/anaconda3/envs/hw6/lib/python3.9/site-packages/torch/autograd/__init__.py?line=167'>168</a>\u001b[0m     retain_graph \u001b[39m=\u001b[39m create_graph\n\u001b[1;32m    <a href='file:///Users/ivan/opt/anaconda3/envs/hw6/lib/python3.9/site-packages/torch/autograd/__init__.py?line=169'>170</a>\u001b[0m \u001b[39m# The reason we repeat same the comment below is that\u001b[39;00m\n\u001b[1;32m    <a href='file:///Users/ivan/opt/anaconda3/envs/hw6/lib/python3.9/site-packages/torch/autograd/__init__.py?line=170'>171</a>\u001b[0m \u001b[39m# some Python versions print out the first line of a multi-line function\u001b[39;00m\n\u001b[1;32m    <a href='file:///Users/ivan/opt/anaconda3/envs/hw6/lib/python3.9/site-packages/torch/autograd/__init__.py?line=171'>172</a>\u001b[0m \u001b[39m# calls in the traceback and some print out the last line\u001b[39;00m\n\u001b[0;32m--> <a href='file:///Users/ivan/opt/anaconda3/envs/hw6/lib/python3.9/site-packages/torch/autograd/__init__.py?line=172'>173</a>\u001b[0m Variable\u001b[39m.\u001b[39;49m_execution_engine\u001b[39m.\u001b[39;49mrun_backward(  \u001b[39m# Calls into the C++ engine to run the backward pass\u001b[39;49;00m\n\u001b[1;32m    <a href='file:///Users/ivan/opt/anaconda3/envs/hw6/lib/python3.9/site-packages/torch/autograd/__init__.py?line=173'>174</a>\u001b[0m     tensors, grad_tensors_, retain_graph, create_graph, inputs,\n\u001b[1;32m    <a href='file:///Users/ivan/opt/anaconda3/envs/hw6/lib/python3.9/site-packages/torch/autograd/__init__.py?line=174'>175</a>\u001b[0m     allow_unreachable\u001b[39m=\u001b[39;49m\u001b[39mTrue\u001b[39;49;00m, accumulate_grad\u001b[39m=\u001b[39;49m\u001b[39mTrue\u001b[39;49;00m)\n",
      "\u001b[0;31mKeyboardInterrupt\u001b[0m: "
     ]
    }
   ],
   "source": [
    "for epoch in tqdm(range(epochs)):\n",
    "    epoch_loss = 0\n",
    "    for i, data in enumerate(train_dataloader):\n",
    "        inputs, labels = data\n",
    "\n",
    "        optimizer.zero_grad()\n",
    "        outputs = net(inputs.view(batch_size,-1).to(device))\n",
    "\n",
    "        labels_ = F.one_hot(labels, num_classes= 10)\n",
    "\n",
    "        loss = criterion(outputs,labels_.to(device).float())\n",
    "        loss.backward()  # update network parameters\n",
    "\n",
    "        optimizer.step() # update the optimizer parameters\n",
    "\n",
    "        total_loss += loss.item()\n",
    "        epoch_loss += loss.item()\n",
    "\n",
    "    with torch.no_grad():\n",
    "        net.eval()\n",
    "        correct = 0\n",
    "        total = 0\n",
    "        for i, data in enumerate(train_dataloader2):\n",
    "            input, labels = data\n",
    "            outputs = net(input.view(batch_size,-1).to(device))\n",
    "\n",
    "            total+= len(labels)\n",
    "\n",
    "            predictions = torch.argmax(outputs, dim = 1)\n",
    "            predictions = predictions.to(\"cpu\").numpy()\n",
    "            correct += sum(1*(labels.numpy()==predictions))\n",
    "\n",
    "    with torch.no_grad():\n",
    "        net.eval()\n",
    "        correct_test = 0\n",
    "        total_test = 0\n",
    "        for i, data in enumerate(test_dataloader):\n",
    "            input, labels = data\n",
    "            outputs = net(input.view(batch_size,-1).to(device))\n",
    "\n",
    "            total_test+= len(labels)\n",
    "\n",
    "            predictions = torch.argmax(outputs, dim = 1)\n",
    "            predictions = predictions.to(\"cpu\").numpy()\n",
    "            correct_test += sum(1*(labels.numpy()==predictions))\n",
    "\n",
    "    print(\n",
    "        \" — epoch loss = %1.2f — training accuracy = %1.2f — test accuracy = %1.2f\"\n",
    "        % (epoch_loss, correct / total, correct_test / total_test))\n"
   ]
  },
  {
   "cell_type": "markdown",
   "metadata": {},
   "source": [
    "d) Explain in ~150 words the method you used to increase the accuracy. [5pts]"
   ]
  },
  {
   "cell_type": "markdown",
   "metadata": {},
   "source": []
  }
 ],
 "metadata": {
  "interpreter": {
   "hash": "e7370f93d1d0cde622a1f8e1c04877d8463912d04d973331ad4851f04de6915a"
  },
  "kernelspec": {
   "display_name": "Python 3.9.9 64-bit",
   "language": "python",
   "name": "python3"
  },
  "language_info": {
   "codemirror_mode": {
    "name": "ipython",
    "version": 3
   },
   "file_extension": ".py",
   "mimetype": "text/x-python",
   "name": "python",
   "nbconvert_exporter": "python",
   "pygments_lexer": "ipython3",
   "version": "3.9.12"
  },
  "orig_nbformat": 4
 },
 "nbformat": 4,
 "nbformat_minor": 2
}
