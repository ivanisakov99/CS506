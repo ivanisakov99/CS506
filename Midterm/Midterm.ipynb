{
 "cells": [
  {
   "cell_type": "markdown",
   "metadata": {},
   "source": [
    "# Midterm CS506"
   ]
  },
  {
   "cell_type": "code",
   "execution_count": 1,
   "metadata": {},
   "outputs": [],
   "source": [
    "import pandas as pd\n",
    "from sklearn.preprocessing import OneHotEncoder, StandardScaler\n",
    "from sklearn.feature_extraction.text import TfidfVectorizer\n",
    "import scipy\n",
    "\n",
    "from sklearn.linear_model import LogisticRegression\n",
    "from sklearn.metrics import mean_squared_error"
   ]
  },
  {
   "cell_type": "code",
   "execution_count": 2,
   "metadata": {},
   "outputs": [
    {
     "data": {
      "text/html": [
       "<div>\n",
       "<style scoped>\n",
       "    .dataframe tbody tr th:only-of-type {\n",
       "        vertical-align: middle;\n",
       "    }\n",
       "\n",
       "    .dataframe tbody tr th {\n",
       "        vertical-align: top;\n",
       "    }\n",
       "\n",
       "    .dataframe thead th {\n",
       "        text-align: right;\n",
       "    }\n",
       "</style>\n",
       "<table border=\"1\" class=\"dataframe\">\n",
       "  <thead>\n",
       "    <tr style=\"text-align: right;\">\n",
       "      <th></th>\n",
       "      <th>Id</th>\n",
       "      <th>ProductId</th>\n",
       "      <th>UserId</th>\n",
       "      <th>HelpfulnessNumerator</th>\n",
       "      <th>HelpfulnessDenominator</th>\n",
       "      <th>Score</th>\n",
       "      <th>Time</th>\n",
       "      <th>Summary</th>\n",
       "      <th>Text</th>\n",
       "    </tr>\n",
       "  </thead>\n",
       "  <tbody>\n",
       "    <tr>\n",
       "      <th>0</th>\n",
       "      <td>0</td>\n",
       "      <td>0005019281</td>\n",
       "      <td>ADZPIG9QOCDG5</td>\n",
       "      <td>0</td>\n",
       "      <td>0</td>\n",
       "      <td>4.0</td>\n",
       "      <td>1203984000</td>\n",
       "      <td>good version of a classic</td>\n",
       "      <td>This is a charming version of the classic Dick...</td>\n",
       "    </tr>\n",
       "    <tr>\n",
       "      <th>1</th>\n",
       "      <td>1</td>\n",
       "      <td>0005019281</td>\n",
       "      <td>A35947ZP82G7JH</td>\n",
       "      <td>0</td>\n",
       "      <td>0</td>\n",
       "      <td>3.0</td>\n",
       "      <td>1388361600</td>\n",
       "      <td>Good but not as moving</td>\n",
       "      <td>It was good but not as emotionally moving as t...</td>\n",
       "    </tr>\n",
       "    <tr>\n",
       "      <th>2</th>\n",
       "      <td>2</td>\n",
       "      <td>0005019281</td>\n",
       "      <td>A3UORV8A9D5L2E</td>\n",
       "      <td>0</td>\n",
       "      <td>0</td>\n",
       "      <td>3.0</td>\n",
       "      <td>1388361600</td>\n",
       "      <td>Winkler's Performance was ok at best!</td>\n",
       "      <td>Don't get me wrong, Winkler is a wonderful cha...</td>\n",
       "    </tr>\n",
       "    <tr>\n",
       "      <th>3</th>\n",
       "      <td>3</td>\n",
       "      <td>0005019281</td>\n",
       "      <td>A1VKW06X1O2X7V</td>\n",
       "      <td>0</td>\n",
       "      <td>0</td>\n",
       "      <td>5.0</td>\n",
       "      <td>1202860800</td>\n",
       "      <td>It's an enjoyable twist on the classic story</td>\n",
       "      <td>Henry Winkler is very good in this twist on th...</td>\n",
       "    </tr>\n",
       "    <tr>\n",
       "      <th>4</th>\n",
       "      <td>4</td>\n",
       "      <td>0005019281</td>\n",
       "      <td>A3R27T4HADWFFJ</td>\n",
       "      <td>0</td>\n",
       "      <td>0</td>\n",
       "      <td>4.0</td>\n",
       "      <td>1387670400</td>\n",
       "      <td>Best Scrooge yet</td>\n",
       "      <td>This is one of the best Scrooge movies out.  H...</td>\n",
       "    </tr>\n",
       "  </tbody>\n",
       "</table>\n",
       "</div>"
      ],
      "text/plain": [
       "   Id   ProductId          UserId  HelpfulnessNumerator  \\\n",
       "0   0  0005019281   ADZPIG9QOCDG5                     0   \n",
       "1   1  0005019281  A35947ZP82G7JH                     0   \n",
       "2   2  0005019281  A3UORV8A9D5L2E                     0   \n",
       "3   3  0005019281  A1VKW06X1O2X7V                     0   \n",
       "4   4  0005019281  A3R27T4HADWFFJ                     0   \n",
       "\n",
       "   HelpfulnessDenominator  Score        Time  \\\n",
       "0                       0    4.0  1203984000   \n",
       "1                       0    3.0  1388361600   \n",
       "2                       0    3.0  1388361600   \n",
       "3                       0    5.0  1202860800   \n",
       "4                       0    4.0  1387670400   \n",
       "\n",
       "                                        Summary  \\\n",
       "0                     good version of a classic   \n",
       "1                        Good but not as moving   \n",
       "2         Winkler's Performance was ok at best!   \n",
       "3  It's an enjoyable twist on the classic story   \n",
       "4                              Best Scrooge yet   \n",
       "\n",
       "                                                Text  \n",
       "0  This is a charming version of the classic Dick...  \n",
       "1  It was good but not as emotionally moving as t...  \n",
       "2  Don't get me wrong, Winkler is a wonderful cha...  \n",
       "3  Henry Winkler is very good in this twist on th...  \n",
       "4  This is one of the best Scrooge movies out.  H...  "
      ]
     },
     "execution_count": 2,
     "metadata": {},
     "output_type": "execute_result"
    }
   ],
   "source": [
    "df = pd.read_csv('./data/train.csv')\n",
    "df.head()"
   ]
  },
  {
   "cell_type": "code",
   "execution_count": 3,
   "metadata": {},
   "outputs": [],
   "source": [
    "df = pd.concat(\n",
    "    [df.loc[df['Score'] != 5], df.loc[df['Score'] == 5].sample(frac=0.5)])"
   ]
  },
  {
   "cell_type": "code",
   "execution_count": 4,
   "metadata": {},
   "outputs": [],
   "source": [
    "encodedIds = OneHotEncoder(sparse=True).fit_transform(\n",
    "    df[['UserId', 'ProductId']])"
   ]
  },
  {
   "cell_type": "code",
   "execution_count": 5,
   "metadata": {},
   "outputs": [],
   "source": [
    "df['Helpful'] = df['HelpfulnessNumerator']\n",
    "df['Unhelpful'] = df['HelpfulnessDenominator'] - df['HelpfulnessNumerator']\n",
    "df[['Helpful', 'Unhelpful', 'Time'\n",
    "    ]] = StandardScaler().fit_transform(df[['Helpful', 'Unhelpful', 'Time']])\n",
    "\n",
    "df = df.drop(['HelpfulnessDenominator', 'HelpfulnessNumerator'], axis=1)\n",
    "\n",
    "other = scipy.sparse.csr_matrix(df[['Helpful', 'Unhelpful', 'Time']].values)"
   ]
  },
  {
   "cell_type": "code",
   "execution_count": 6,
   "metadata": {},
   "outputs": [],
   "source": [
    "df['Summary'].fillna('', inplace=True)\n",
    "df['Text'].fillna('', inplace=True)\n",
    "\n",
    "tfidf = TfidfVectorizer(stop_words='english')\n",
    "text = tfidf.fit_transform(df['Text'])\n",
    "summary = tfidf.fit_transform(df['Summary'])"
   ]
  },
  {
   "cell_type": "code",
   "execution_count": 7,
   "metadata": {},
   "outputs": [
    {
     "data": {
      "text/plain": [
       "(1324273, 968421)"
      ]
     },
     "execution_count": 7,
     "metadata": {},
     "output_type": "execute_result"
    }
   ],
   "source": [
    "X = scipy.sparse.hstack([encodedIds, other, summary, text])"
   ]
  },
  {
   "cell_type": "code",
   "execution_count": 8,
   "metadata": {},
   "outputs": [
    {
     "name": "stdout",
     "output_type": "stream",
     "text": [
      "(1024273, 968421) (1024273,)\n"
     ]
    }
   ],
   "source": [
    "train = df['Score'].notna()\n",
    "\n",
    "trainIdx, testIdx = (train).to_numpy().nonzero()[0], (~train).to_numpy().nonzero()[0]\n",
    "\n",
    "X_train, X_test = X[trainIdx], X[testIdx]\n",
    "Y_train = df[train].reset_index()['Score']"
   ]
  },
  {
   "cell_type": "code",
   "execution_count": 9,
   "metadata": {},
   "outputs": [
    {
     "name": "stderr",
     "output_type": "stream",
     "text": [
      "/Users/ivan/opt/anaconda3/envs/ml/lib/python3.10/site-packages/sklearn/linear_model/_logistic.py:814: ConvergenceWarning: lbfgs failed to converge (status=1):\n",
      "STOP: TOTAL NO. of ITERATIONS REACHED LIMIT.\n",
      "\n",
      "Increase the number of iterations (max_iter) or scale the data as shown in:\n",
      "    https://scikit-learn.org/stable/modules/preprocessing.html\n",
      "Please also refer to the documentation for alternative solver options:\n",
      "    https://scikit-learn.org/stable/modules/linear_model.html#logistic-regression\n",
      "  n_iter_i = _check_optimize_result(\n"
     ]
    },
    {
     "name": "stdout",
     "output_type": "stream",
     "text": [
      "Training Accuracy: 0.6896842931523138\n"
     ]
    }
   ],
   "source": [
    "model = LogisticRegression(random_state=0).fit(X_train, Y_train)\n",
    "Y_pred = model.predict(X_train)\n",
    "print('Training Accuracy:', mean_squared_error(Y_pred, Y_train))"
   ]
  },
  {
   "cell_type": "code",
   "execution_count": 10,
   "metadata": {},
   "outputs": [],
   "source": [
    "submission = pd.read_csv('./data/test.csv')\n",
    "\n",
    "submission['Score'] = model.predict(X_test)\n",
    "submission.to_csv('./data/submission.csv', index=False)"
   ]
  },
  {
   "cell_type": "code",
   "execution_count": null,
   "metadata": {},
   "outputs": [],
   "source": []
  }
 ],
 "metadata": {
  "interpreter": {
   "hash": "8a573f581c7b700b03e0b560b6164fdd2010d71e659474847347dfbdfea480eb"
  },
  "kernelspec": {
   "display_name": "Python 3.10.2 ('ml')",
   "language": "python",
   "name": "python3"
  },
  "language_info": {
   "codemirror_mode": {
    "name": "ipython",
    "version": 3
   },
   "file_extension": ".py",
   "mimetype": "text/x-python",
   "name": "python",
   "nbconvert_exporter": "python",
   "pygments_lexer": "ipython3",
   "version": "3.10.2"
  },
  "orig_nbformat": 4
 },
 "nbformat": 4,
 "nbformat_minor": 2
}
